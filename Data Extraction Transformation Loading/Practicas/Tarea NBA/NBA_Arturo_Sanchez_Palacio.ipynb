{
 "cells": [
  {
   "cell_type": "markdown",
   "metadata": {},
   "source": [
    "# Examen ETL: SPARK 02/02"
   ]
  },
  {
   "cell_type": "markdown",
   "metadata": {},
   "source": [
    "Se podrá utilizar toda la información que se encuentra en el campus. \n",
    "\n",
    "El fichero de datos sobre el que se trabajará es el de partidosLigaNBA.txt.\n",
    "\n",
    "A cada una de las preguntas hay que responder explicando brevemente que se pretende hacer antes de lanzar el código.\n",
    "\n",
    "Al documento lo llamareís con vuestro nombre y apellido. Debeís enviarlo a mi correo de CUNEF antes del final del examen.\n",
    "\n",
    "El lenguaje para trabajar con Spark podrá ser python o R indistintamente."
   ]
  },
  {
   "cell_type": "markdown",
   "metadata": {},
   "source": [
    "## Primera pregunta: Describe brevemente que diferencia el persists, cache y collect en spark. Explica brevemente casos en los que es interesante su aplicación"
   ]
  },
  {
   "cell_type": "markdown",
   "metadata": {},
   "source": [
    "Collect es una acción que toma un RDD y devuelve todos sus elementos en una lista. Una de sus principales aplicaciones es devolver el resultado de manera visible para el usuario cuando se han terminado las transformaciones. El uso más interesante de `collect` es, sin embargo, el forzar a las transformaciones a trabajar, es decir, un RDD es una serie de operaciones, no son datos per se, sin embargo, al añadir una acción al final de estas intrucciones se fuerza a que la lista de operaciones antes mencionadas sea ejecutada."
   ]
  },
  {
   "cell_type": "markdown",
   "metadata": {},
   "source": [
    "Tanto `cache` como `persist` son técnicas de optimización para cálculo de Spark (tanto iterativos como interactivos). Su principal ventajas es que almacenan resultados intermedios para su reutilización en los subsecuentes pasos. Los RDD se almacenan en la memoria cache mediante `cache`. La diferencia entre `cache` y `persist` es puramente sintáctica. `cache` es simplemente un `persist` en el que el nivel de almacenamiento viene dado por defecto a `MEMORY_ONLY`."
   ]
  },
  {
   "cell_type": "markdown",
   "metadata": {},
   "source": [
    "La aplicación de `cache` y `persist` puede resultar muy interesante en algunas ocasiones. Es requisito esencial para poder usar estas acciones que la memoria del dispositivo tenga suficiente capacidad de almacenamiento. De darse esta condición resulta útil llamar a dichas acciones cuando se va a trabajar varias veces con el mismo RDD, por ejemplo, en un bucle. Al cargarse los datos en la memoria la velocidad de este proceso será muy rápida. Otra situación en la que resulta interesante es cuando se van a realizar varias operaciones (sin necesidad de ser un bucle) sobre el mismo RDD."
   ]
  },
  {
   "cell_type": "markdown",
   "metadata": {},
   "source": [
    "Esta opción debe usarse con cautela. El proceso de almacenar los datos en memoria lleva su tiempo y en ocasiones resulta más rápido realizar la carga de los datos cada vez que cargarlos en memoria para luego reutilizarlos."
   ]
  },
  {
   "cell_type": "markdown",
   "metadata": {},
   "source": [
    "## Segunda pregunta: Explica brevemente los pasos a seguir para realizar la carga de un conjunto de datos (pasos que se siguieron en la práctica con datos de logs)"
   ]
  },
  {
   "cell_type": "markdown",
   "metadata": {},
   "source": [
    "A la hora de transferir la información desde una base de datos estructurada hasta un data\n",
    "lake se deben realizar una serie de comprobaciones que garanticen el buen traspaso de dicha\n",
    "información (entendiéndose por buen traspaso que los datos sean grabados correctamente, que\n",
    "no se pierdan datos importantes, que no se produzcan duplicaciones y que los datos sean\n",
    "consistentes)."
   ]
  },
  {
   "cell_type": "markdown",
   "metadata": {},
   "source": [
    "Para evitar estos errores, existen una serie de medidas que se pueden llevar a cabo para\n",
    "reducir (o incluso eliminar) los errores. Algunas de ellas son:"
   ]
  },
  {
   "cell_type": "markdown",
   "metadata": {},
   "source": [
    "- Comprobación de las dimensiones. Se miden los metadatos antes de ser transferidos y se compara con los que han sido almacenados para garantizar que todas las variables han sido traspasadas y que el número de registros traspasados si no es igual al total es al menos próximo (en ocasiones se pierden pocos registros y no es tan problemático).\n",
    "\n",
    "- Eliminación de duplicados. Suele ser adecuado que las bases de datos lleven un índice o una identificación para cada registro. Gracias a esta buena praxis se realiza una fácil detección de duplicados o se localizan posibles registros perdidos en el traspaso.\n",
    "- Comprobación de los tipos. Comprobar que los tipos de las variables no han cambiado durante el traspaso. En caso de ocurrir esto, realizar un cast al tipo adecuado.\n",
    "- Parseado de datos específicos. Asegurar que los formatos especiales (variablescategóricas, fechas…) se encuentran en el formato adecuado.\n",
    "- Otra medida de garantía es contrastar los datos con cargas realizadas anteriores. Si el número de datos subido en dos días diferentes presenta una gran diferencia cabe sospechar que alguno de los dos días ha habido problemas (perdida de datos o almacenamiento de datos repetidos). En este sentido se puede dibujar una gráfica con el número de datos de cada carga permitiéndose así una fácil detección de los valores atípicos. Conviene tomar como medida periodos de tiempo suficientemente amplios y uniformes, por ejemplo, meses.\n",
    "- Comprobar que se mantiene la escala. Asegurarse de que no ha habido problemas con el separador decimal (punto o coma según el sistema) para ello basta inspeccionar el máximo y mínimo de cada variable. \n",
    "- Comprobar que las variables categóricas se han traspasado de manera adecuada. En ocasiones los caracteres especiales como pueden ser las ñ’s o las tildes generan problemas según como esté codificado."
   ]
  },
  {
   "cell_type": "markdown",
   "metadata": {},
   "source": [
    "## Tercera Pregunta: Índica un tipo de problema que puede empeorar los datos. (pe. Que no exista un representante del CDO en todas las áreas de negocio), pon algún ejemplo específico (pe. Datos duplicados) y cómo lo tratarías con técnicas de data cleaning."
   ]
  },
  {
   "cell_type": "markdown",
   "metadata": {},
   "source": [
    "Un problema habitual que perjudica gravemente la carga de datos es el empleo de caracteres especiales (tildes, ñ's). Una opción es realizar búsquedas y sustituciones mediante expresiones regulares."
   ]
  },
  {
   "cell_type": "markdown",
   "metadata": {},
   "source": [
    "Un problema muy habitual es que se utilicen distintas escalas de medida para medir una misma variable. Por ejemplo, una empresa multinacional puede declarar sus beneficios en España en euros y en Japón en yenes lo que provocaría un muy notorio desfase. Una solución para esto es realizar un pequeño análisis exploratorio de los datos una vez que estos han sido cargdados."
   ]
  },
  {
   "cell_type": "markdown",
   "metadata": {},
   "source": [
    "Una buena praxis para evitar datos duplicados es añadir a cada registro un número de identificación. En dicha variable se pueden eliminar los registros que aparecen duplicados."
   ]
  },
  {
   "cell_type": "markdown",
   "metadata": {},
   "source": [
    "## Cuarta tarea: Inicializar spark context y cargar los datos desde el fichero."
   ]
  },
  {
   "cell_type": "markdown",
   "metadata": {},
   "source": [
    "Para iniciar el contexto spark basta con importar el módulo SparkContext:"
   ]
  },
  {
   "cell_type": "code",
   "execution_count": 1,
   "metadata": {
    "collapsed": true
   },
   "outputs": [],
   "source": [
    "from pyspark import SparkContext\n",
    "sc = SparkContext()"
   ]
  },
  {
   "cell_type": "markdown",
   "metadata": {},
   "source": [
    "Tras subir los datos a la imagen del Kitematic se procede a su lectura:"
   ]
  },
  {
   "cell_type": "code",
   "execution_count": 2,
   "metadata": {
    "collapsed": true
   },
   "outputs": [],
   "source": [
    "datos = \"./partidosLigaNBA.csv\"\n",
    "raw_data = sc.textFile(datos)"
   ]
  },
  {
   "cell_type": "markdown",
   "metadata": {},
   "source": [
    "En primer lugar se ojean los datos para ver cómo proceder al parseado:"
   ]
  },
  {
   "cell_type": "code",
   "execution_count": 3,
   "metadata": {
    "collapsed": false
   },
   "outputs": [
    {
     "data": {
      "text/plain": [
       "['Date:Start..ET.:Visitor.Neutral:PTS:Home.Neutral:PTS.1']"
      ]
     },
     "execution_count": 3,
     "metadata": {},
     "output_type": "execute_result"
    }
   ],
   "source": [
    "raw_data.take(1)"
   ]
  },
  {
   "cell_type": "markdown",
   "metadata": {},
   "source": [
    "Vemos que el archivo tiene una cabecera. Tomamos nota de ella y la eliminamos (desde un principio) porque nos genera problemas:"
   ]
  },
  {
   "cell_type": "code",
   "execution_count": 4,
   "metadata": {
    "collapsed": true
   },
   "outputs": [],
   "source": [
    "datos = \"./sin_cabecera.csv\"\n",
    "raw_data = sc.textFile(datos)"
   ]
  },
  {
   "cell_type": "markdown",
   "metadata": {},
   "source": [
    "Comprobamos que se ha resuelto el problema de la cabecera:"
   ]
  },
  {
   "cell_type": "code",
   "execution_count": 5,
   "metadata": {
    "collapsed": false
   },
   "outputs": [
    {
     "data": {
      "text/plain": [
       "['Tue, Oct 30, 2007:\"7:30 pm\":Utah Jazz:117:Golden State Warriors:96',\n",
       " 'Tue, Oct 30, 2007:\"7:30 pm\":Houston Rockets:95:Los Angeles Lakers:93',\n",
       " 'Tue, Oct 30, 2007:\"7:00 pm\":Portland Trail Blazers:97:San Antonio Spurs:106',\n",
       " 'Wed, Oct 31, 2007:\"8:00 pm\":Dallas Mavericks:92:Cleveland Cavaliers:74',\n",
       " 'Wed, Oct 31, 2007:\"8:30 pm\":Seattle SuperSonics:103:Denver Nuggets:120',\n",
       " 'Wed, Oct 31, 2007:\"7:00 pm\":Washington Wizards:110:Indiana Pacers:119',\n",
       " 'Wed, Oct 31, 2007:\"7:00 pm\":San Antonio Spurs:104:Memphis Grizzlies:101',\n",
       " 'Wed, Oct 31, 2007:\"7:30 pm\":Chicago Bulls:103:New Jersey Nets:112',\n",
       " 'Wed, Oct 31, 2007:\"7:00 pm\":Sacramento Kings:90:New Orleans Hornets:104',\n",
       " 'Wed, Oct 31, 2007:\"7:00 pm\":Milwaukee Bucks:83:Orlando Magic:102']"
      ]
     },
     "execution_count": 5,
     "metadata": {},
     "output_type": "execute_result"
    }
   ],
   "source": [
    "raw_data.take(10)"
   ]
  },
  {
   "cell_type": "markdown",
   "metadata": {},
   "source": [
    "Antes de proceder al parseado se cuentan cuántos registros han sido cargado para asegurar que no se pierden registros al parsear:"
   ]
  },
  {
   "cell_type": "code",
   "execution_count": 6,
   "metadata": {
    "collapsed": false
   },
   "outputs": [
    {
     "data": {
      "text/plain": [
       "12907"
      ]
     },
     "execution_count": 6,
     "metadata": {},
     "output_type": "execute_result"
    }
   ],
   "source": [
    "raw_data.count()"
   ]
  },
  {
   "cell_type": "markdown",
   "metadata": {},
   "source": [
    "Se procede al parseado observando que los datos van separados por `\":\"`:"
   ]
  },
  {
   "cell_type": "code",
   "execution_count": 7,
   "metadata": {
    "collapsed": true
   },
   "outputs": [],
   "source": [
    "datos_tratados = raw_data.map(lambda x: x.split(\":\"))"
   ]
  },
  {
   "cell_type": "markdown",
   "metadata": {},
   "source": [
    "Se comprueba que al parsear no se han perdido registros:"
   ]
  },
  {
   "cell_type": "code",
   "execution_count": 8,
   "metadata": {
    "collapsed": false
   },
   "outputs": [
    {
     "data": {
      "text/plain": [
       "12907"
      ]
     },
     "execution_count": 8,
     "metadata": {},
     "output_type": "execute_result"
    }
   ],
   "source": [
    "datos_tratados.count()"
   ]
  },
  {
   "cell_type": "markdown",
   "metadata": {},
   "source": [
    "El parseado se ha realizado de manera correcta."
   ]
  },
  {
   "cell_type": "markdown",
   "metadata": {},
   "source": [
    "Tomamos un elemento para ver cómo se ha parseado:"
   ]
  },
  {
   "cell_type": "code",
   "execution_count": 9,
   "metadata": {
    "collapsed": false
   },
   "outputs": [
    {
     "data": {
      "text/plain": [
       "[['Tue, Oct 30, 2007',\n",
       "  '\"7',\n",
       "  '30 pm\"',\n",
       "  'Utah Jazz',\n",
       "  '117',\n",
       "  'Golden State Warriors',\n",
       "  '96']]"
      ]
     },
     "execution_count": 9,
     "metadata": {},
     "output_type": "execute_result"
    }
   ],
   "source": [
    "datos_tratados.take(1)"
   ]
  },
  {
   "cell_type": "markdown",
   "metadata": {},
   "source": [
    "Hay un pequeño problema con la hora. Como se ha partido por los `\":\"` tenemos que las horas y los minutos se separan en dos columnas. Tras revisar la práctica se observa que las horas no se van a considerar por lo que no nos moelestamos en arreglarlo pero es importante tenerlo en cuenta."
   ]
  },
  {
   "cell_type": "markdown",
   "metadata": {},
   "source": [
    "Así en cada línea tenemos la siguiente información:"
   ]
  },
  {
   "cell_type": "markdown",
   "metadata": {},
   "source": [
    "- En la posición 0 la fecha.\n",
    "- En la posición 1 la hora.\n",
    "- En la posición 2 los minutos y si es am o pm.\n",
    "- En la tercera el equipo local.\n",
    "- En la cuarta el número de goles del equipo local.\n",
    "- En la quinta el equipo visitante.\n",
    "- En la sexta el número de goles del visitante.\n"
   ]
  },
  {
   "cell_type": "markdown",
   "metadata": {},
   "source": [
    " "
   ]
  },
  {
   "cell_type": "markdown",
   "metadata": {},
   "source": [
    "Previo a responder a las preguntas del examen se procede a un breve análisis exploratorio del dataset."
   ]
  },
  {
   "cell_type": "markdown",
   "metadata": {},
   "source": [
    "### Análisis exploratorio"
   ]
  },
  {
   "cell_type": "raw",
   "metadata": {},
   "source": [
    "stad_puntos_locales = datos_tratados.map(lambda x: int(x[4])).stats()\n",
    "stad_puntos_locales"
   ]
  },
  {
   "cell_type": "markdown",
   "metadata": {},
   "source": [
    "Se detecta que hay un problema. Para descubrir de qué se trata vemos qué valores distintos se presentan en la variables goles locales:"
   ]
  },
  {
   "cell_type": "code",
   "execution_count": 10,
   "metadata": {
    "collapsed": false
   },
   "outputs": [
    {
     "data": {
      "text/plain": [
       "['102',\n",
       " '128',\n",
       " '110',\n",
       " '88',\n",
       " '77',\n",
       " '66',\n",
       " '74',\n",
       " '73',\n",
       " '106',\n",
       " '56',\n",
       " '134',\n",
       " '57',\n",
       " '96',\n",
       " '132',\n",
       " '107',\n",
       " '64',\n",
       " '144',\n",
       " '70',\n",
       " '98',\n",
       " '68',\n",
       " '141',\n",
       " '93',\n",
       " '86',\n",
       " '63',\n",
       " '116',\n",
       " '82',\n",
       " '83',\n",
       " '112',\n",
       " '138',\n",
       " '119',\n",
       " '84',\n",
       " '140',\n",
       " '54',\n",
       " '121',\n",
       " '60',\n",
       " '122',\n",
       " '154',\n",
       " '139',\n",
       " '108',\n",
       " '143',\n",
       " 'Playoffs',\n",
       " '113',\n",
       " '111',\n",
       " '91',\n",
       " '69',\n",
       " '115',\n",
       " '145',\n",
       " '100',\n",
       " '147',\n",
       " '130',\n",
       " '131',\n",
       " '127',\n",
       " '120',\n",
       " '62',\n",
       " '124',\n",
       " '104',\n",
       " '125',\n",
       " '135',\n",
       " '99',\n",
       " '151',\n",
       " '103',\n",
       " '126',\n",
       " '117',\n",
       " '95',\n",
       " '72',\n",
       " '118',\n",
       " '142',\n",
       " '80',\n",
       " '78',\n",
       " '109',\n",
       " '71',\n",
       " '114',\n",
       " '129',\n",
       " '92',\n",
       " '67',\n",
       " '123',\n",
       " '79',\n",
       " '101',\n",
       " '136',\n",
       " '133',\n",
       " '59',\n",
       " '75',\n",
       " '105',\n",
       " '89',\n",
       " '58',\n",
       " '61',\n",
       " '97',\n",
       " '94',\n",
       " '90',\n",
       " '65',\n",
       " '137',\n",
       " '85',\n",
       " '87',\n",
       " '81',\n",
       " '76']"
      ]
     },
     "execution_count": 10,
     "metadata": {},
     "output_type": "execute_result"
    }
   ],
   "source": [
    "datos_tratados.map(lambda x: x[4]).distinct().collect()"
   ]
  },
  {
   "cell_type": "markdown",
   "metadata": {},
   "source": [
    "De una ojeada se aprecia que en algunos casos hay una errata pues aparece `playoff`. Veamos cuántos casos como este se producen:"
   ]
  },
  {
   "cell_type": "code",
   "execution_count": 11,
   "metadata": {
    "collapsed": false
   },
   "outputs": [
    {
     "data": {
      "text/plain": [
       "10"
      ]
     },
     "execution_count": 11,
     "metadata": {},
     "output_type": "execute_result"
    }
   ],
   "source": [
    "playoffs = datos_tratados.filter(lambda x: x[4]==\"Playoffs\")\n",
    "playoffs.count()"
   ]
  },
  {
   "cell_type": "markdown",
   "metadata": {},
   "source": [
    "Como son solo diez casos podemos examinarlos individualmente:"
   ]
  },
  {
   "cell_type": "code",
   "execution_count": 12,
   "metadata": {
    "collapsed": false
   },
   "outputs": [
    {
     "data": {
      "text/plain": [
       "[['Playoffs', 'Playoffs', 'Playoffs', 'Playoffs', 'Playoffs', 'Playoffs'],\n",
       " ['Playoffs', 'Playoffs', 'Playoffs', 'Playoffs', 'Playoffs', 'Playoffs'],\n",
       " ['Playoffs', 'Playoffs', 'Playoffs', 'Playoffs', 'Playoffs', 'Playoffs'],\n",
       " ['Playoffs', 'Playoffs', 'Playoffs', 'Playoffs', 'Playoffs', 'Playoffs'],\n",
       " ['Playoffs', 'Playoffs', 'Playoffs', 'Playoffs', 'Playoffs', 'Playoffs'],\n",
       " ['Playoffs', 'Playoffs', 'Playoffs', 'Playoffs', 'Playoffs', 'Playoffs'],\n",
       " ['Playoffs', 'Playoffs', 'Playoffs', 'Playoffs', 'Playoffs', 'Playoffs'],\n",
       " ['Playoffs', 'Playoffs', 'Playoffs', 'Playoffs', 'Playoffs', 'Playoffs'],\n",
       " ['Playoffs', 'Playoffs', 'Playoffs', 'Playoffs', 'Playoffs', 'Playoffs'],\n",
       " ['Playoffs', 'Playoffs', 'Playoffs', 'Playoffs', 'Playoffs', 'Playoffs']]"
      ]
     },
     "execution_count": 12,
     "metadata": {},
     "output_type": "execute_result"
    }
   ],
   "source": [
    "playoffs.take(10)"
   ]
  },
  {
   "cell_type": "markdown",
   "metadata": {},
   "source": [
    "Estas filas no producen información así que se decide eliminarlas."
   ]
  },
  {
   "cell_type": "code",
   "execution_count": 13,
   "metadata": {
    "collapsed": true
   },
   "outputs": [],
   "source": [
    "datos_sin_playoffs = datos_tratados.filter(lambda x: x[4]!=\"Playoffs\")"
   ]
  },
  {
   "cell_type": "code",
   "execution_count": 14,
   "metadata": {
    "collapsed": false
   },
   "outputs": [
    {
     "data": {
      "text/plain": [
       "12897"
      ]
     },
     "execution_count": 14,
     "metadata": {},
     "output_type": "execute_result"
    }
   ],
   "source": [
    "datos_sin_playoffs.count()"
   ]
  },
  {
   "cell_type": "markdown",
   "metadata": {},
   "source": [
    "Se recuerda que previamente había 12907 registros luego solo se han eliminado diez que se corresponden con los diez antes señalados."
   ]
  },
  {
   "cell_type": "code",
   "execution_count": 15,
   "metadata": {
    "collapsed": false
   },
   "outputs": [
    {
     "data": {
      "text/plain": [
       "(count: 12897, mean: 98.73520973869917, stdev: 12.1262284681, max: 154.0, min: 54.0)"
      ]
     },
     "execution_count": 15,
     "metadata": {},
     "output_type": "execute_result"
    }
   ],
   "source": [
    "stad_puntos_locales = datos_sin_playoffs.map(lambda x: int(x[4])).stats()\n",
    "stad_puntos_locales"
   ]
  },
  {
   "cell_type": "code",
   "execution_count": 16,
   "metadata": {
    "collapsed": false
   },
   "outputs": [
    {
     "data": {
      "text/plain": [
       "(count: 12897, mean: 101.7780103900129, stdev: 12.2630490248, max: 168.0, min: 59.0)"
      ]
     },
     "execution_count": 16,
     "metadata": {},
     "output_type": "execute_result"
    }
   ],
   "source": [
    "stad_puntos_visitantes = datos_sin_playoffs.map(lambda x: int(x[6])).stats()\n",
    "stad_puntos_visitantes"
   ]
  },
  {
   "cell_type": "markdown",
   "metadata": {},
   "source": [
    "Todos los registros se encuentran compleatados y los resultados se encuentran entre los parámetros razonables. El número mínimo de puntos es 54 y 59 respectivamente y el máximo son 154 y 168. Valores razonables para partidos en la NBA teniendoe en cuenta que son los valores más extremos."
   ]
  },
  {
   "cell_type": "markdown",
   "metadata": {},
   "source": [
    " "
   ]
  },
  {
   "cell_type": "markdown",
   "metadata": {},
   "source": [
    "Respecto al número de equipos participantes:"
   ]
  },
  {
   "cell_type": "code",
   "execution_count": 17,
   "metadata": {
    "collapsed": false
   },
   "outputs": [
    {
     "data": {
      "text/plain": [
       "34"
      ]
     },
     "execution_count": 17,
     "metadata": {},
     "output_type": "execute_result"
    }
   ],
   "source": [
    "datos_sin_playoffs.map(lambda x: x[3]).distinct().count()"
   ]
  },
  {
   "cell_type": "code",
   "execution_count": 18,
   "metadata": {
    "collapsed": false
   },
   "outputs": [
    {
     "data": {
      "text/plain": [
       "34"
      ]
     },
     "execution_count": 18,
     "metadata": {},
     "output_type": "execute_result"
    }
   ],
   "source": [
    "datos_sin_playoffs.map(lambda x: x[5]).distinct().count()"
   ]
  },
  {
   "cell_type": "markdown",
   "metadata": {},
   "source": [
    "Hay el mismo número de equipos que juegan fuera y dentro de casa. Como de nuevo es un tamaño razonable se pueden ojear para comprobar que no hay problemas de transcripción de datos."
   ]
  },
  {
   "cell_type": "code",
   "execution_count": 19,
   "metadata": {
    "collapsed": false
   },
   "outputs": [
    {
     "data": {
      "text/plain": [
       "['Oklahoma City Thunder',\n",
       " 'Cleveland Cavaliers',\n",
       " 'Minnesota Timberwolves',\n",
       " 'Chicago Bulls',\n",
       " 'Utah Jazz',\n",
       " 'Memphis Grizzlies',\n",
       " 'New Jersey Nets',\n",
       " 'Miami Heat',\n",
       " 'Brooklyn Nets',\n",
       " 'Orlando Magic',\n",
       " 'Indiana Pacers',\n",
       " 'Houston Rockets',\n",
       " 'San Antonio Spurs',\n",
       " 'Seattle SuperSonics',\n",
       " 'Washington Wizards',\n",
       " 'Phoenix Suns',\n",
       " 'Charlotte Hornets',\n",
       " 'Sacramento Kings',\n",
       " 'Milwaukee Bucks',\n",
       " 'Dallas Mavericks',\n",
       " 'New Orleans Hornets',\n",
       " 'Philadelphia 76ers',\n",
       " 'Denver Nuggets',\n",
       " 'Detroit Pistons',\n",
       " 'Golden State Warriors',\n",
       " 'Atlanta Hawks',\n",
       " 'Toronto Raptors',\n",
       " 'Boston Celtics',\n",
       " 'Charlotte Bobcats',\n",
       " 'Los Angeles Clippers',\n",
       " 'Los Angeles Lakers',\n",
       " 'New Orleans Pelicans',\n",
       " 'New York Knicks',\n",
       " 'Portland Trail Blazers']"
      ]
     },
     "execution_count": 19,
     "metadata": {},
     "output_type": "execute_result"
    }
   ],
   "source": [
    "datos_sin_playoffs.map(lambda x: x[5]).distinct().collect()"
   ]
  },
  {
   "cell_type": "markdown",
   "metadata": {},
   "source": [
    "Los equipos están bien transcritos."
   ]
  },
  {
   "cell_type": "markdown",
   "metadata": {},
   "source": [
    " "
   ]
  },
  {
   "cell_type": "markdown",
   "metadata": {},
   "source": [
    "Las fechas son un tema de vital importancia para los ejercicios así que se examinarán cuidadosamente:"
   ]
  },
  {
   "cell_type": "markdown",
   "metadata": {},
   "source": [
    "En primer lugar se comprueba de qué años se poseén registros:"
   ]
  },
  {
   "cell_type": "code",
   "execution_count": 20,
   "metadata": {
    "collapsed": false
   },
   "outputs": [
    {
     "data": {
      "text/plain": [
       "['2014',\n",
       " '2013',\n",
       " '2017',\n",
       " '2016',\n",
       " '2011',\n",
       " '2012',\n",
       " '2007',\n",
       " '2015',\n",
       " '2010',\n",
       " '2008',\n",
       " '2009']"
      ]
     },
     "execution_count": 20,
     "metadata": {},
     "output_type": "execute_result"
    }
   ],
   "source": [
    "datos_sin_playoffs.map(lambda x: x[0][-4:]).distinct().collect()"
   ]
  },
  {
   "cell_type": "markdown",
   "metadata": {},
   "source": [
    "En las fechas se observa una tendencia:\n",
    "- Si el día del mes poseé una cifra la fecha está formada por 16 caracteres, si no por 17.\n",
    "- Las posiciones 5 a 7 (ambos inclusive) se corresponden con el mes.\n",
    "- Las cuatro últimas posiciones se corresponden con el año."
   ]
  },
  {
   "cell_type": "code",
   "execution_count": 21,
   "metadata": {
    "collapsed": false
   },
   "outputs": [
    {
     "data": {
      "text/plain": [
       "['Sun, Mar 6, 2016',\n",
       " 'Wed, Apr 27, 2016',\n",
       " 'Thu, Jun 3, 2010',\n",
       " 'Sun, Nov 17, 2013',\n",
       " 'Sun, Jun 7, 2009',\n",
       " 'Sat, Jan 22, 2011',\n",
       " 'Tue, May 25, 2010',\n",
       " 'Sun, Nov 18, 2012',\n",
       " 'Sun, May 17, 2015',\n",
       " 'Fri, Mar 25, 2016']"
      ]
     },
     "execution_count": 21,
     "metadata": {},
     "output_type": "execute_result"
    }
   ],
   "source": [
    "datos_sin_playoffs.map(lambda x: x[0]).distinct().take(10)"
   ]
  },
  {
   "cell_type": "markdown",
   "metadata": {},
   "source": [
    "Hemos terminado de procesar los datos. Se procede a responder a las preguntas del examen:"
   ]
  },
  {
   "cell_type": "code",
   "execution_count": 22,
   "metadata": {
    "collapsed": true
   },
   "outputs": [],
   "source": [
    "datos = datos_sin_playoffs"
   ]
  },
  {
   "cell_type": "markdown",
   "metadata": {},
   "source": [
    "## Quinta tarea: Media de la diferencia de puntos por año"
   ]
  },
  {
   "cell_type": "markdown",
   "metadata": {
    "collapsed": true
   },
   "source": [
    "En primer lugar se crea un RDD clave-valor siendo la clave el año en el que se jugó el partido el valor el valor absoluto de la diferencia de puntos entre los dos equipos:"
   ]
  },
  {
   "cell_type": "code",
   "execution_count": 23,
   "metadata": {
    "collapsed": true
   },
   "outputs": [],
   "source": [
    "diferencia_puntos_partidos = datos.map(lambda x: (x[0][-4:], abs(int(x[4]) - int(x[6]))))"
   ]
  },
  {
   "cell_type": "markdown",
   "metadata": {},
   "source": [
    "Agrupando por claves obtenemos un diccionario en el que la clave es la misma que la del RDD y el valor una tupla con la suma de diferencias de puntos y el número de partidos:"
   ]
  },
  {
   "cell_type": "code",
   "execution_count": 26,
   "metadata": {
    "collapsed": false
   },
   "outputs": [
    {
     "data": {
      "text/plain": [
       "{'2007': (5060, 456),\n",
       " '2008': (15376, 1332),\n",
       " '2009': (14595, 1316),\n",
       " '2010': (14358, 1321),\n",
       " '2011': (9435, 885),\n",
       " '2012': (15986, 1474),\n",
       " '2013': (14659, 1324),\n",
       " '2014': (14547, 1334),\n",
       " '2015': (14720, 1319),\n",
       " '2016': (15397, 1333),\n",
       " '2017': (9172, 803)}"
      ]
     },
     "execution_count": 26,
     "metadata": {},
     "output_type": "execute_result"
    }
   ],
   "source": [
    "year_difference_matches = diferencia_puntos_partidos.combineByKey(\n",
    "    (lambda x: (x, 1)), # the initial value, with value x and count 1\n",
    "    (lambda acc, value: (acc[0]+value, acc[1]+1)), # how to combine a pair value with the accumulator: sum value, and increment count\n",
    "    (lambda acc1, acc2: (acc1[0]+acc2[0], acc1[1]+acc2[1])) # combine accumulators\n",
    ")\n",
    "\n",
    "year_difference_matches.collectAsMap()"
   ]
  },
  {
   "cell_type": "markdown",
   "metadata": {},
   "source": [
    "Por último basta dividir dicha suma entre el número de partidos."
   ]
  },
  {
   "cell_type": "code",
   "execution_count": 28,
   "metadata": {
    "collapsed": false
   },
   "outputs": [],
   "source": [
    "difference_average = year_difference_matches.map(lambda x: (x[0], round(x[1][0]/x[1][1],3))).collectAsMap()"
   ]
  },
  {
   "cell_type": "markdown",
   "metadata": {},
   "source": [
    "El siguiente diccionario muestra un índice con el año y la media de diferencia de puntos:"
   ]
  },
  {
   "cell_type": "code",
   "execution_count": 29,
   "metadata": {
    "collapsed": false
   },
   "outputs": [
    {
     "data": {
      "text/plain": [
       "{'2007': 11.096,\n",
       " '2008': 11.544,\n",
       " '2009': 11.09,\n",
       " '2010': 10.869,\n",
       " '2011': 10.661,\n",
       " '2012': 10.845,\n",
       " '2013': 11.072,\n",
       " '2014': 10.905,\n",
       " '2015': 11.16,\n",
       " '2016': 11.551,\n",
       " '2017': 11.422}"
      ]
     },
     "execution_count": 29,
     "metadata": {},
     "output_type": "execute_result"
    }
   ],
   "source": [
    "difference_average"
   ]
  },
  {
   "cell_type": "markdown",
   "metadata": {},
   "source": [
    "## Sexta tarea: ¿Han judado todos los equipos el mismo número de partidos? ¿ Si es qué no a que puede deberse?"
   ]
  },
  {
   "cell_type": "code",
   "execution_count": 30,
   "metadata": {
    "collapsed": false
   },
   "outputs": [],
   "source": [
    "partidos_en_casa = datos.map(lambda x: (x[3], x[0])) "
   ]
  },
  {
   "cell_type": "code",
   "execution_count": 50,
   "metadata": {
    "collapsed": false,
    "scrolled": true
   },
   "outputs": [
    {
     "data": {
      "text/plain": [
       "defaultdict(int,\n",
       "            {'Atlanta Hawks': 448,\n",
       "             'Boston Celtics': 463,\n",
       "             'Brooklyn Nets': 218,\n",
       "             'Charlotte Bobcats': 283,\n",
       "             'Charlotte Hornets': 127,\n",
       "             'Chicago Bulls': 437,\n",
       "             'Cleveland Cavaliers': 452,\n",
       "             'Dallas Mavericks': 436,\n",
       "             'Denver Nuggets': 424,\n",
       "             'Detroit Pistons': 414,\n",
       "             'Golden State Warriors': 440,\n",
       "             'Houston Rockets': 434,\n",
       "             'Indiana Pacers': 434,\n",
       "             'Los Angeles Clippers': 430,\n",
       "             'Los Angeles Lakers': 447,\n",
       "             'Memphis Grizzlies': 434,\n",
       "             'Miami Heat': 456,\n",
       "             'Milwaukee Bucks': 414,\n",
       "             'Minnesota Timberwolves': 402,\n",
       "             'New Jersey Nets': 197,\n",
       "             'New Orleans Hornets': 249,\n",
       "             'New Orleans Pelicans': 166,\n",
       "             'New York Knicks': 413,\n",
       "             'Oklahoma City Thunder': 408,\n",
       "             'Orlando Magic': 432,\n",
       "             'Philadelphia 76ers': 418,\n",
       "             'Phoenix Suns': 413,\n",
       "             'Portland Trail Blazers': 428,\n",
       "             'Sacramento Kings': 402,\n",
       "             'San Antonio Spurs': 466,\n",
       "             'Seattle SuperSonics': 41,\n",
       "             'Toronto Raptors': 424,\n",
       "             'Utah Jazz': 424,\n",
       "             'Washington Wizards': 423})"
      ]
     },
     "execution_count": 50,
     "metadata": {},
     "output_type": "execute_result"
    }
   ],
   "source": [
    "partidos_en_casa.countByKey()"
   ]
  },
  {
   "cell_type": "code",
   "execution_count": 51,
   "metadata": {
    "collapsed": false
   },
   "outputs": [],
   "source": [
    "partidos_fuera = datos.map(lambda x: (x[5], x[0]))"
   ]
  },
  {
   "cell_type": "code",
   "execution_count": 53,
   "metadata": {
    "collapsed": false,
    "scrolled": true
   },
   "outputs": [
    {
     "data": {
      "text/plain": [
       "defaultdict(int,\n",
       "            {'Atlanta Hawks': 448,\n",
       "             'Boston Celtics': 467,\n",
       "             'Brooklyn Nets': 217,\n",
       "             'Charlotte Bobcats': 283,\n",
       "             'Charlotte Hornets': 126,\n",
       "             'Chicago Bulls': 436,\n",
       "             'Cleveland Cavaliers': 449,\n",
       "             'Dallas Mavericks': 431,\n",
       "             'Denver Nuggets': 424,\n",
       "             'Detroit Pistons': 415,\n",
       "             'Golden State Warriors': 445,\n",
       "             'Houston Rockets': 434,\n",
       "             'Indiana Pacers': 434,\n",
       "             'Los Angeles Clippers': 431,\n",
       "             'Los Angeles Lakers': 450,\n",
       "             'Memphis Grizzlies': 433,\n",
       "             'Miami Heat': 461,\n",
       "             'Milwaukee Bucks': 413,\n",
       "             'Minnesota Timberwolves': 402,\n",
       "             'New Jersey Nets': 197,\n",
       "             'New Orleans Hornets': 250,\n",
       "             'New Orleans Pelicans': 166,\n",
       "             'New York Knicks': 412,\n",
       "             'Oklahoma City Thunder': 410,\n",
       "             'Orlando Magic': 431,\n",
       "             'Philadelphia 76ers': 416,\n",
       "             'Phoenix Suns': 412,\n",
       "             'Portland Trail Blazers': 425,\n",
       "             'Sacramento Kings': 402,\n",
       "             'San Antonio Spurs': 467,\n",
       "             'Seattle SuperSonics': 41,\n",
       "             'Toronto Raptors': 426,\n",
       "             'Utah Jazz': 422,\n",
       "             'Washington Wizards': 421})"
      ]
     },
     "execution_count": 53,
     "metadata": {},
     "output_type": "execute_result"
    }
   ],
   "source": [
    "partidos_fuera.countByKey()"
   ]
  },
  {
   "cell_type": "markdown",
   "metadata": {},
   "source": [
    "Se observan diferencias, por ejemplo, en los Boston Celtics. Esto se debe a que algunos equipos han cambiado de nombre a lo largo de la historia de la NBA."
   ]
  },
  {
   "cell_type": "markdown",
   "metadata": {},
   "source": [
    "## Séptima pregunta: ¿Cuantos partidos ha ganado en Enero Clevelant?"
   ]
  },
  {
   "cell_type": "markdown",
   "metadata": {},
   "source": [
    "En primer lugar nos quedamos solo con los partidos jugados en Enero:"
   ]
  },
  {
   "cell_type": "code",
   "execution_count": 31,
   "metadata": {
    "collapsed": true
   },
   "outputs": [],
   "source": [
    "partidos_Enero = datos.filter(lambda x: x[0][5:8] == 'Jan')"
   ]
  },
  {
   "cell_type": "markdown",
   "metadata": {},
   "source": [
    "De ahí se extraen los partidos que el Cleveland juega en casa:"
   ]
  },
  {
   "cell_type": "code",
   "execution_count": 32,
   "metadata": {
    "collapsed": false
   },
   "outputs": [],
   "source": [
    "partidos_Enero_local = partidos_Enero.filter(lambda x: x[3] == 'Cleveland Cavaliers')"
   ]
  },
  {
   "cell_type": "markdown",
   "metadata": {},
   "source": [
    "Y a continuación las victorias locales en Enero:"
   ]
  },
  {
   "cell_type": "code",
   "execution_count": 33,
   "metadata": {
    "collapsed": true
   },
   "outputs": [],
   "source": [
    "victoria_local_Clev_Enero = partidos_Enero_local.filter(lambda x: int(x[4]) > int(x[6]))"
   ]
  },
  {
   "cell_type": "code",
   "execution_count": 34,
   "metadata": {
    "collapsed": false
   },
   "outputs": [
    {
     "data": {
      "text/plain": [
       "41"
      ]
     },
     "execution_count": 34,
     "metadata": {},
     "output_type": "execute_result"
    }
   ],
   "source": [
    "victoria_local_Clev_Enero.count()"
   ]
  },
  {
   "cell_type": "markdown",
   "metadata": {},
   "source": [
    "Análogamente para los partidos jugado como visitante:"
   ]
  },
  {
   "cell_type": "code",
   "execution_count": 35,
   "metadata": {
    "collapsed": true
   },
   "outputs": [],
   "source": [
    "partidos_Enero_visit = partidos_Enero.filter(lambda x: x[5] == 'Cleveland Cavaliers')"
   ]
  },
  {
   "cell_type": "code",
   "execution_count": 36,
   "metadata": {
    "collapsed": true
   },
   "outputs": [],
   "source": [
    "victoria_visit_Clev_Enero = partidos_Enero_visit.filter(lambda x: int(x[4]) < int(x[6]))"
   ]
  },
  {
   "cell_type": "code",
   "execution_count": 37,
   "metadata": {
    "collapsed": false
   },
   "outputs": [
    {
     "data": {
      "text/plain": [
       "42"
      ]
     },
     "execution_count": 37,
     "metadata": {},
     "output_type": "execute_result"
    }
   ],
   "source": [
    "victoria_visit_Clev_Enero.count()"
   ]
  },
  {
   "cell_type": "code",
   "execution_count": 38,
   "metadata": {
    "collapsed": false
   },
   "outputs": [
    {
     "name": "stdout",
     "output_type": "stream",
     "text": [
      "El Cleveland Cavaliers ha ganado en Enero  83 partidos.\n"
     ]
    }
   ],
   "source": [
    "print(\"El Cleveland Cavaliers ha ganado en Enero \", format(victoria_visit_Clev_Enero.count() + victoria_local_Clev_Enero.count()), \"partidos.\")"
   ]
  },
  {
   "cell_type": "markdown",
   "metadata": {},
   "source": [
    "## Octava pregunta: ¿Los Warriors son mejores fuera de casa o en casa?"
   ]
  },
  {
   "cell_type": "markdown",
   "metadata": {},
   "source": [
    "Para calcular el número de victorias locales de los Warriors calculamos en primer lugar el número de partidos que juegan en casa:"
   ]
  },
  {
   "cell_type": "code",
   "execution_count": 39,
   "metadata": {
    "collapsed": false
   },
   "outputs": [],
   "source": [
    "partidos_locales_Warriors = datos.filter(lambda x: x[3] == 'Golden State Warriors' )"
   ]
  },
  {
   "cell_type": "markdown",
   "metadata": {},
   "source": [
    "Tras ello se calcula el número de victorias en dichos partidos:"
   ]
  },
  {
   "cell_type": "code",
   "execution_count": 40,
   "metadata": {
    "collapsed": true
   },
   "outputs": [],
   "source": [
    "partidos_locales_ganados_Warriors = partidos_locales_Warriors.filter(lambda x: int(x[4]) > int(x[6]))"
   ]
  },
  {
   "cell_type": "markdown",
   "metadata": {},
   "source": [
    "El número de victorias locales de los Warriors es:"
   ]
  },
  {
   "cell_type": "code",
   "execution_count": 41,
   "metadata": {
    "collapsed": false
   },
   "outputs": [
    {
     "data": {
      "text/plain": [
       "215"
      ]
     },
     "execution_count": 41,
     "metadata": {},
     "output_type": "execute_result"
    }
   ],
   "source": [
    "partidos_locales_ganados_Warriors.count()"
   ]
  },
  {
   "cell_type": "markdown",
   "metadata": {},
   "source": [
    "Análogamente para los partidos jugados como visitante:"
   ]
  },
  {
   "cell_type": "code",
   "execution_count": 42,
   "metadata": {
    "collapsed": false
   },
   "outputs": [
    {
     "data": {
      "text/plain": [
       "308"
      ]
     },
     "execution_count": 42,
     "metadata": {},
     "output_type": "execute_result"
    }
   ],
   "source": [
    "partidos_visitante_Warriors = datos.filter(lambda x: x[5] == 'Golden State Warriors' )\n",
    "partidos_visitante_ganados_Warriors = partidos_visitante_Warriors.filter(lambda x: int(x[4]) < int(x[6]))\n",
    "partidos_visitante_ganados_Warriors.count()"
   ]
  },
  {
   "cell_type": "markdown",
   "metadata": {},
   "source": [
    "__Solución:__ Los Warriors son mejores fuera de casa con 308 victorias fuera frente a 215 victorias locales."
   ]
  },
  {
   "cell_type": "markdown",
   "metadata": {},
   "source": [
    "## Novena pregunta: Equipo que ha quedado primerio en victorias más temporadas. (si es que hay alguno que más)"
   ]
  },
  {
   "cell_type": "markdown",
   "metadata": {},
   "source": [
    "Lo primero es ver qué equipos ganan en casa:"
   ]
  },
  {
   "cell_type": "code",
   "execution_count": 43,
   "metadata": {
    "collapsed": false
   },
   "outputs": [],
   "source": [
    "victorias_locales = datos.filter(lambda x: int(x[4]) > int(x[6]))"
   ]
  },
  {
   "cell_type": "markdown",
   "metadata": {},
   "source": [
    "Se crea un RDD que posee el año y el nombre del equipo ganador:"
   ]
  },
  {
   "cell_type": "code",
   "execution_count": 44,
   "metadata": {
    "collapsed": false
   },
   "outputs": [],
   "source": [
    "victorias_locales1 = victorias_locales.map(lambda x: (x[0][-4:], x[3])) "
   ]
  },
  {
   "cell_type": "code",
   "execution_count": 45,
   "metadata": {
    "collapsed": false
   },
   "outputs": [
    {
     "data": {
      "text/plain": [
       "[('2007', 'Utah Jazz'),\n",
       " ('2007', 'Houston Rockets'),\n",
       " ('2007', 'Dallas Mavericks'),\n",
       " ('2007', 'San Antonio Spurs'),\n",
       " ('2007', 'Detroit Pistons')]"
      ]
     },
     "execution_count": 45,
     "metadata": {},
     "output_type": "execute_result"
    }
   ],
   "source": [
    "victorias_locales1.take(5)"
   ]
  },
  {
   "cell_type": "markdown",
   "metadata": {},
   "source": [
    "Análogamente para las victorias fuera de casa:"
   ]
  },
  {
   "cell_type": "code",
   "execution_count": 46,
   "metadata": {
    "collapsed": true
   },
   "outputs": [],
   "source": [
    "victorias_visitantes = datos.filter(lambda x: int(x[4]) < int(x[6]))"
   ]
  },
  {
   "cell_type": "code",
   "execution_count": 47,
   "metadata": {
    "collapsed": false
   },
   "outputs": [],
   "source": [
    "victorias_visitantes1 = victorias_visitantes.map(lambda x: (x[0][-4:], x[5])) "
   ]
  },
  {
   "cell_type": "markdown",
   "metadata": {},
   "source": [
    "Uno ambos conjuntos :"
   ]
  },
  {
   "cell_type": "code",
   "execution_count": 48,
   "metadata": {
    "collapsed": false
   },
   "outputs": [],
   "source": [
    "victorias = (victorias_locales1 + victorias_visitantes1)"
   ]
  },
  {
   "cell_type": "code",
   "execution_count": 49,
   "metadata": {
    "collapsed": false
   },
   "outputs": [
    {
     "data": {
      "text/plain": [
       "[('2007', 'Utah Jazz'),\n",
       " ('2007', 'Houston Rockets'),\n",
       " ('2007', 'Dallas Mavericks'),\n",
       " ('2007', 'San Antonio Spurs'),\n",
       " ('2007', 'Detroit Pistons'),\n",
       " ('2007', 'Phoenix Suns'),\n",
       " ('2007', 'Houston Rockets'),\n",
       " ('2007', 'Philadelphia 76ers'),\n",
       " ('2007', 'Denver Nuggets'),\n",
       " ('2007', 'Toronto Raptors')]"
      ]
     },
     "execution_count": 49,
     "metadata": {},
     "output_type": "execute_result"
    }
   ],
   "source": [
    "victorias.take(10)"
   ]
  },
  {
   "cell_type": "markdown",
   "metadata": {},
   "source": [
    "Seleccionar el primero de cada temporada. Contar para cada equipo el número de temporadas. Ordenar"
   ]
  },
  {
   "cell_type": "code",
   "execution_count": 50,
   "metadata": {
    "collapsed": false
   },
   "outputs": [
    {
     "data": {
      "text/plain": [
       "11"
      ]
     },
     "execution_count": 50,
     "metadata": {},
     "output_type": "execute_result"
    }
   ],
   "source": [
    "datos.map(lambda x: x[0][-4:]).distinct().count()"
   ]
  },
  {
   "cell_type": "code",
   "execution_count": 51,
   "metadata": {
    "collapsed": true
   },
   "outputs": [],
   "source": [
    "victorias3 = victorias.map(lambda x: ((x[0],x[1]), 1))"
   ]
  },
  {
   "cell_type": "code",
   "execution_count": 52,
   "metadata": {
    "collapsed": false
   },
   "outputs": [
    {
     "data": {
      "text/plain": [
       "[(('2007', 'Utah Jazz'), 1),\n",
       " (('2007', 'Houston Rockets'), 1),\n",
       " (('2007', 'Dallas Mavericks'), 1),\n",
       " (('2007', 'San Antonio Spurs'), 1),\n",
       " (('2007', 'Detroit Pistons'), 1),\n",
       " (('2007', 'Phoenix Suns'), 1),\n",
       " (('2007', 'Houston Rockets'), 1),\n",
       " (('2007', 'Philadelphia 76ers'), 1),\n",
       " (('2007', 'Denver Nuggets'), 1),\n",
       " (('2007', 'Toronto Raptors'), 1)]"
      ]
     },
     "execution_count": 52,
     "metadata": {},
     "output_type": "execute_result"
    }
   ],
   "source": [
    "victorias3.take(10)"
   ]
  },
  {
   "cell_type": "code",
   "execution_count": 53,
   "metadata": {
    "collapsed": false
   },
   "outputs": [],
   "source": [
    "temp_team_victorias = victorias3.map(lambda line: (line[0],1)).reduceByKey(lambda a, b: a + b)"
   ]
  },
  {
   "cell_type": "code",
   "execution_count": 54,
   "metadata": {
    "collapsed": false
   },
   "outputs": [],
   "source": [
    "temp_team_victorias = temp_team_victorias.map(lambda x: (x[0][0],(x[0][1],x[1])))"
   ]
  },
  {
   "cell_type": "code",
   "execution_count": 55,
   "metadata": {
    "collapsed": false
   },
   "outputs": [
    {
     "data": {
      "text/plain": [
       "[('2015', ('Golden State Warriors', 88)),\n",
       " ('2016', ('Golden State Warriors', 87)),\n",
       " ('2013', ('Miami Heat', 85)),\n",
       " ('2008', ('Boston Celtics', 84)),\n",
       " ('2012', ('San Antonio Spurs', 82)),\n",
       " ('2009', ('Los Angeles Lakers', 81)),\n",
       " ('2012', ('Oklahoma City Thunder', 79)),\n",
       " ('2012', ('Miami Heat', 79)),\n",
       " ('2008', ('Los Angeles Lakers', 77)),\n",
       " ('2016', ('Cleveland Cavaliers', 77)),\n",
       " ('2009', ('Cleveland Cavaliers', 76)),\n",
       " ('2013', ('San Antonio Spurs', 73)),\n",
       " ('2014', ('San Antonio Spurs', 73)),\n",
       " ('2016', ('San Antonio Spurs', 72)),\n",
       " ('2010', ('Los Angeles Lakers', 71)),\n",
       " ('2009', ('Orlando Magic', 70)),\n",
       " ('2015', ('Cleveland Cavaliers', 70)),\n",
       " ('2012', ('Los Angeles Clippers', 68)),\n",
       " ('2016', ('Toronto Raptors', 68)),\n",
       " ('2010', ('Orlando Magic', 67)),\n",
       " ('2013', ('Indiana Pacers', 67)),\n",
       " ('2010', ('Boston Celtics', 66)),\n",
       " ('2013', ('Oklahoma City Thunder', 66)),\n",
       " ('2015', ('San Antonio Spurs', 66)),\n",
       " ('2015', ('Atlanta Hawks', 66)),\n",
       " ('2012', ('Chicago Bulls', 65)),\n",
       " ('2008', ('Cleveland Cavaliers', 64)),\n",
       " ('2008', ('Detroit Pistons', 64)),\n",
       " ('2008', ('San Antonio Spurs', 64)),\n",
       " ('2009', ('Boston Celtics', 64)),\n",
       " ('2014', ('Los Angeles Clippers', 64)),\n",
       " ('2016', ('Oklahoma City Thunder', 64)),\n",
       " ('2008', ('Houston Rockets', 63)),\n",
       " ('2009', ('Denver Nuggets', 63)),\n",
       " ('2010', ('San Antonio Spurs', 63)),\n",
       " ('2012', ('Indiana Pacers', 63)),\n",
       " ('2012', ('Boston Celtics', 63)),\n",
       " ('2014', ('Memphis Grizzlies', 63)),\n",
       " ('2008', ('New Orleans Hornets', 62)),\n",
       " ('2008', ('Utah Jazz', 62)),\n",
       " ('2012', ('Memphis Grizzlies', 62)),\n",
       " ('2015', ('Los Angeles Clippers', 62)),\n",
       " ('2010', ('Utah Jazz', 61)),\n",
       " ('2014', ('Toronto Raptors', 61)),\n",
       " ('2008', ('Orlando Magic', 60)),\n",
       " ('2014', ('Oklahoma City Thunder', 60)),\n",
       " ('2014', ('Portland Trail Blazers', 60)),\n",
       " ('2009', ('Houston Rockets', 59)),\n",
       " ('2010', ('Dallas Mavericks', 59)),\n",
       " ('2014', ('Chicago Bulls', 59)),\n",
       " ('2014', ('Golden State Warriors', 59)),\n",
       " ('2015', ('Houston Rockets', 59)),\n",
       " ('2009', ('Dallas Mavericks', 58)),\n",
       " ('2012', ('Atlanta Hawks', 58)),\n",
       " ('2012', ('Los Angeles Lakers', 58)),\n",
       " ('2013', ('Memphis Grizzlies', 58)),\n",
       " ('2014', ('Washington Wizards', 58)),\n",
       " ('2009', ('Portland Trail Blazers', 57)),\n",
       " ('2010', ('Miami Heat', 57)),\n",
       " ('2010', ('Oklahoma City Thunder', 57)),\n",
       " ('2010', ('Phoenix Suns', 57)),\n",
       " ('2010', ('Atlanta Hawks', 57)),\n",
       " ('2014', ('Houston Rockets', 57)),\n",
       " ('2014', ('Miami Heat', 57)),\n",
       " ('2014', ('Dallas Mavericks', 57)),\n",
       " ('2012', ('New York Knicks', 56)),\n",
       " ('2012', ('Denver Nuggets', 56)),\n",
       " ('2013', ('Denver Nuggets', 56)),\n",
       " ('2015', ('Memphis Grizzlies', 56)),\n",
       " ('2016', ('Los Angeles Clippers', 56)),\n",
       " ('2009', ('San Antonio Spurs', 54)),\n",
       " ('2012', ('Philadelphia 76ers', 54)),\n",
       " ('2013', ('Los Angeles Clippers', 54)),\n",
       " ('2014', ('Brooklyn Nets', 54)),\n",
       " ('2017', ('Golden State Warriors', 54)),\n",
       " ('2008', ('Denver Nuggets', 53)),\n",
       " ('2010', ('Denver Nuggets', 53)),\n",
       " ('2011', ('Chicago Bulls', 53)),\n",
       " ('2014', ('Indiana Pacers', 53)),\n",
       " ('2016', ('Charlotte Hornets', 53)),\n",
       " ('2008', ('Phoenix Suns', 52)),\n",
       " ('2013', ('Golden State Warriors', 52)),\n",
       " ('2015', ('Chicago Bulls', 52)),\n",
       " ('2015', ('Oklahoma City Thunder', 52)),\n",
       " ('2016', ('Boston Celtics', 52)),\n",
       " ('2016', ('Houston Rockets', 52)),\n",
       " ('2008', ('Dallas Mavericks', 51)),\n",
       " ('2009', ('Atlanta Hawks', 51)),\n",
       " ('2011', ('Miami Heat', 51)),\n",
       " ('2013', ('Houston Rockets', 51)),\n",
       " ('2010', ('Chicago Bulls', 50)),\n",
       " ('2011', ('Dallas Mavericks', 50)),\n",
       " ('2012', ('Utah Jazz', 50)),\n",
       " ('2009', ('Phoenix Suns', 49)),\n",
       " ('2010', ('Cleveland Cavaliers', 49)),\n",
       " ('2010', ('Milwaukee Bucks', 49)),\n",
       " ('2012', ('Houston Rockets', 49)),\n",
       " ('2016', ('Portland Trail Blazers', 49)),\n",
       " ('2009', ('Utah Jazz', 48)),\n",
       " ('2010', ('Portland Trail Blazers', 48)),\n",
       " ('2013', ('New York Knicks', 48)),\n",
       " ('2016', ('Atlanta Hawks', 48)),\n",
       " ('2012', ('Orlando Magic', 47)),\n",
       " ('2012', ('Dallas Mavericks', 47)),\n",
       " ('2013', ('Dallas Mavericks', 47)),\n",
       " ('2014', ('Phoenix Suns', 47)),\n",
       " ('2015', ('Boston Celtics', 47)),\n",
       " ('2015', ('Dallas Mavericks', 47)),\n",
       " ('2016', ('Miami Heat', 47)),\n",
       " ('2016', ('Utah Jazz', 47)),\n",
       " ('2008', ('Atlanta Hawks', 46)),\n",
       " ('2011', ('Oklahoma City Thunder', 46)),\n",
       " ('2013', ('Brooklyn Nets', 46)),\n",
       " ('2013', ('Chicago Bulls', 46)),\n",
       " ('2014', ('Atlanta Hawks', 46)),\n",
       " ('2016', ('Indiana Pacers', 46)),\n",
       " ('2016', ('Memphis Grizzlies', 46)),\n",
       " ('2009', ('Miami Heat', 45)),\n",
       " ('2009', ('New Orleans Hornets', 45)),\n",
       " ('2012', ('Milwaukee Bucks', 45)),\n",
       " ('2013', ('Atlanta Hawks', 45)),\n",
       " ('2015', ('Toronto Raptors', 45)),\n",
       " ('2015', ('Washington Wizards', 44)),\n",
       " ('2015', ('Indiana Pacers', 44)),\n",
       " ('2008', ('Portland Trail Blazers', 43)),\n",
       " ('2009', ('Chicago Bulls', 43)),\n",
       " ('2010', ('Charlotte Bobcats', 43)),\n",
       " ('2012', ('Phoenix Suns', 43)),\n",
       " ('2013', ('Portland Trail Blazers', 43)),\n",
       " ('2013', ('Los Angeles Lakers', 43)),\n",
       " ('2016', ('Washington Wizards', 43)),\n",
       " ('2010', ('New Orleans Hornets', 42)),\n",
       " ('2012', ('Golden State Warriors', 42)),\n",
       " ('2013', ('Boston Celtics', 42)),\n",
       " ('2015', ('Detroit Pistons', 42)),\n",
       " ('2017', ('San Antonio Spurs', 42)),\n",
       " ('2017', ('Boston Celtics', 42)),\n",
       " ('2008', ('Philadelphia 76ers', 41)),\n",
       " ('2011', ('Los Angeles Lakers', 41)),\n",
       " ('2014', ('Cleveland Cavaliers', 41)),\n",
       " ('2015', ('Miami Heat', 41)),\n",
       " ('2015', ('Utah Jazz', 41)),\n",
       " ('2016', ('Detroit Pistons', 41)),\n",
       " ('2011', ('Memphis Grizzlies', 40)),\n",
       " ('2012', ('Minnesota Timberwolves', 40)),\n",
       " ('2012', ('Portland Trail Blazers', 40)),\n",
       " ('2015', ('Charlotte Hornets', 40)),\n",
       " ('2015', ('Portland Trail Blazers', 40)),\n",
       " ('2016', ('Chicago Bulls', 40)),\n",
       " ('2017', ('Washington Wizards', 40)),\n",
       " ('2008', ('Golden State Warriors', 39)),\n",
       " ('2009', ('Philadelphia 76ers', 39)),\n",
       " ('2010', ('Memphis Grizzlies', 39)),\n",
       " ('2013', ('Washington Wizards', 39)),\n",
       " ('2015', ('Milwaukee Bucks', 39)),\n",
       " ('2015', ('New Orleans Pelicans', 39)),\n",
       " ('2017', ('Cleveland Cavaliers', 39)),\n",
       " ('2010', ('Houston Rockets', 38)),\n",
       " ('2011', ('San Antonio Spurs', 38)),\n",
       " ('2011', ('Boston Celtics', 38)),\n",
       " ('2013', ('Utah Jazz', 38)),\n",
       " ('2008', ('Toronto Raptors', 37)),\n",
       " ('2009', ('Oklahoma City Thunder', 37)),\n",
       " ('2009', ('Toronto Raptors', 37)),\n",
       " ('2010', ('Indiana Pacers', 37)),\n",
       " ('2013', ('Toronto Raptors', 37)),\n",
       " ('2008', ('Washington Wizards', 36)),\n",
       " ('2008', ('Chicago Bulls', 36)),\n",
       " ('2009', ('Charlotte Bobcats', 36)),\n",
       " ('2011', ('Orlando Magic', 36)),\n",
       " ('2011', ('Portland Trail Blazers', 36)),\n",
       " ('2014', ('New Orleans Pelicans', 36)),\n",
       " ('2016', ('Milwaukee Bucks', 36)),\n",
       " ('2008', ('Sacramento Kings', 35)),\n",
       " ('2008', ('New Jersey Nets', 35)),\n",
       " ('2009', ('Indiana Pacers', 35)),\n",
       " ('2010', ('New York Knicks', 35)),\n",
       " ('2010', ('Toronto Raptors', 35)),\n",
       " ('2011', ('Denver Nuggets', 35)),\n",
       " ('2012', ('Detroit Pistons', 35)),\n",
       " ('2014', ('Denver Nuggets', 35)),\n",
       " ('2016', ('Sacramento Kings', 35)),\n",
       " ('2016', ('Denver Nuggets', 35)),\n",
       " ('2017', ('Houston Rockets', 35)),\n",
       " ('2015', ('Brooklyn Nets', 34)),\n",
       " ('2016', ('Dallas Mavericks', 34)),\n",
       " ('2016', ('New Orleans Pelicans', 34)),\n",
       " ('2017', ('Utah Jazz', 34)),\n",
       " ('2012', ('Toronto Raptors', 33)),\n",
       " ('2013', ('Phoenix Suns', 33)),\n",
       " ('2014', ('New York Knicks', 33)),\n",
       " ('2015', ('Phoenix Suns', 33)),\n",
       " ('2016', ('New York Knicks', 33)),\n",
       " ('2017', ('Toronto Raptors', 33)),\n",
       " ('2008', ('Charlotte Bobcats', 32)),\n",
       " ('2009', ('New York Knicks', 32)),\n",
       " ('2011', ('Atlanta Hawks', 32)),\n",
       " ('2012', ('Sacramento Kings', 32)),\n",
       " ('2013', ('Minnesota Timberwolves', 32)),\n",
       " ('2013', ('Detroit Pistons', 32)),\n",
       " ('2017', ('Los Angeles Clippers', 32)),\n",
       " ('2008', ('Indiana Pacers', 31)),\n",
       " ('2009', ('Detroit Pistons', 31)),\n",
       " ('2009', ('Milwaukee Bucks', 31)),\n",
       " ('2010', ('Philadelphia 76ers', 31)),\n",
       " ('2011', ('Philadelphia 76ers', 31)),\n",
       " ('2011', ('New Orleans Hornets', 31)),\n",
       " ('2014', ('Sacramento Kings', 31)),\n",
       " ('2015', ('Orlando Magic', 31)),\n",
       " ('2016', ('Orlando Magic', 31)),\n",
       " ('2017', ('Miami Heat', 31)),\n",
       " ('2008', ('Milwaukee Bucks', 30)),\n",
       " ('2010', ('Golden State Warriors', 30)),\n",
       " ('2014', ('Minnesota Timberwolves', 30)),\n",
       " ('2009', ('Memphis Grizzlies', 29)),\n",
       " ('2011', ('Houston Rockets', 29)),\n",
       " ('2013', ('Philadelphia 76ers', 29)),\n",
       " ('2013', ('Milwaukee Bucks', 29)),\n",
       " ('2014', ('Charlotte Bobcats', 29)),\n",
       " ('2015', ('Denver Nuggets', 29)),\n",
       " ('2009', ('Golden State Warriors', 28)),\n",
       " ('2015', ('Sacramento Kings', 28)),\n",
       " ('2016', ('Minnesota Timberwolves', 28)),\n",
       " ('2017', ('Milwaukee Bucks', 28)),\n",
       " ('2017', ('Atlanta Hawks', 28)),\n",
       " ('2008', ('New York Knicks', 27)),\n",
       " ('2010', ('Detroit Pistons', 27)),\n",
       " ('2011', ('Indiana Pacers', 27)),\n",
       " ('2011', ('Phoenix Suns', 27)),\n",
       " ('2012', ('Cleveland Cavaliers', 27)),\n",
       " ('2013', ('Charlotte Bobcats', 27)),\n",
       " ('2013', ('Sacramento Kings', 27)),\n",
       " ('2013', ('Cleveland Cavaliers', 27)),\n",
       " ('2015', ('New York Knicks', 27)),\n",
       " ('2017', ('Chicago Bulls', 27)),\n",
       " ('2017', ('Oklahoma City Thunder', 27)),\n",
       " ('2017', ('Portland Trail Blazers', 27)),\n",
       " ('2007', ('Boston Celtics', 26)),\n",
       " ('2011', ('New York Knicks', 26)),\n",
       " ('2012', ('New Orleans Hornets', 26)),\n",
       " ('2014', ('Utah Jazz', 26)),\n",
       " ('2014', ('Orlando Magic', 26)),\n",
       " ('2017', ('Indiana Pacers', 26)),\n",
       " ('2017', ('Denver Nuggets', 26)),\n",
       " ('2009', ('Minnesota Timberwolves', 25)),\n",
       " ('2009', ('Los Angeles Clippers', 25)),\n",
       " ('2010', ('Los Angeles Clippers', 25)),\n",
       " ('2011', ('Golden State Warriors', 25)),\n",
       " ('2011', ('Milwaukee Bucks', 25)),\n",
       " ('2014', ('Milwaukee Bucks', 25)),\n",
       " ('2007', ('Detroit Pistons', 24)),\n",
       " ('2008', ('Memphis Grizzlies', 24)),\n",
       " ('2008', ('Minnesota Timberwolves', 24)),\n",
       " ('2008', ('Miami Heat', 24)),\n",
       " ('2010', ('Washington Wizards', 24)),\n",
       " ('2011', ('Charlotte Bobcats', 24)),\n",
       " ('2012', ('Washington Wizards', 24)),\n",
       " ('2014', ('Los Angeles Lakers', 24)),\n",
       " ('2009', ('Sacramento Kings', 23)),\n",
       " ('2009', ('Washington Wizards', 23)),\n",
       " ('2011', ('Los Angeles Clippers', 23)),\n",
       " ('2014', ('Detroit Pistons', 23)),\n",
       " ('2014', ('Boston Celtics', 23)),\n",
       " ('2015', ('Minnesota Timberwolves', 23)),\n",
       " ('2016', ('Los Angeles Lakers', 23)),\n",
       " ('2017', ('Memphis Grizzlies', 23)),\n",
       " ('2017', ('Dallas Mavericks', 23)),\n",
       " ('2007', ('Orlando Magic', 22)),\n",
       " ('2007', ('Phoenix Suns', 22)),\n",
       " ('2009', ('New Jersey Nets', 22)),\n",
       " ('2017', ('Detroit Pistons', 22)),\n",
       " ('2007', ('San Antonio Spurs', 21)),\n",
       " ('2008', ('Los Angeles Clippers', 21)),\n",
       " ('2012', ('New Jersey Nets', 21)),\n",
       " ('2016', ('Phoenix Suns', 21)),\n",
       " ('2007', ('Dallas Mavericks', 20)),\n",
       " ('2007', ('New Orleans Hornets', 20)),\n",
       " ('2011', ('Detroit Pistons', 20)),\n",
       " ('2013', ('New Orleans Hornets', 20)),\n",
       " ('2016', ('Brooklyn Nets', 20)),\n",
       " ('2017', ('New Orleans Pelicans', 20)),\n",
       " ('2017', ('Minnesota Timberwolves', 20)),\n",
       " ('2017', ('Philadelphia 76ers', 20)),\n",
       " ('2007', ('Golden State Warriors', 19)),\n",
       " ('2007', ('Los Angeles Lakers', 19)),\n",
       " ('2011', ('Sacramento Kings', 19)),\n",
       " ('2007', ('Portland Trail Blazers', 18)),\n",
       " ('2007', ('Denver Nuggets', 18)),\n",
       " ('2010', ('New Jersey Nets', 18)),\n",
       " ('2011', ('Utah Jazz', 18)),\n",
       " ('2013', ('Orlando Magic', 18)),\n",
       " ('2017', ('Sacramento Kings', 18)),\n",
       " ('2007', ('Utah Jazz', 17)),\n",
       " ('2007', ('Toronto Raptors', 17)),\n",
       " ('2010', ('Sacramento Kings', 17)),\n",
       " ('2015', ('Philadelphia 76ers', 17)),\n",
       " ('2015', ('Los Angeles Lakers', 17)),\n",
       " ('2017', ('Charlotte Hornets', 17)),\n",
       " ('2010', ('Minnesota Timberwolves', 16)),\n",
       " ('2011', ('New Jersey Nets', 16))]"
      ]
     },
     "execution_count": 55,
     "metadata": {},
     "output_type": "execute_result"
    }
   ],
   "source": [
    "temp_team_victorias.sortByKey().sortBy(lambda x: (-x[1][1])).takeOrdered(300, lambda x: -x[1][1])"
   ]
  },
  {
   "cell_type": "markdown",
   "metadata": {},
   "source": [
    "__Solución.__ El Golden State Warriors es el mejor en 2015, 2016 y 2017, en 2013 Miami Heat, en 2008 los Boston Celtics, en 2012 y 2014 San Antonio Spurs, en 2009 y 2010 los Angeles Lakers, en 2011 Chicago Bulls y en 2007 Boston Celtics."
   ]
  },
  {
   "cell_type": "markdown",
   "metadata": {},
   "source": [
    "##  Décima pregunta: Escribe la expresión regular correcta que sólo macheen los teléfonos y el correo del siguiente texto."
   ]
  },
  {
   "cell_type": "markdown",
   "metadata": {},
   "source": [
    "Si eres cliente y necesitas información sobre tus posiciones, productos o realizar operaciones: Desde España. Desde el extranjero. Banca telefónica en castellano. Bandera castellano. 902 13 23 13. Banca telefónica en catalán. Bandera catalana. 902 88 30 08. Banca telefónica en inglés. Bandera inglesa. 902 88 88 35. O por correo electrónico a atencioncliente@bankinter.com"
   ]
  },
  {
   "cell_type": "markdown",
   "metadata": {},
   "source": [
    "Cargamos el texto en una variable:"
   ]
  },
  {
   "cell_type": "code",
   "execution_count": 56,
   "metadata": {
    "collapsed": true
   },
   "outputs": [],
   "source": [
    "texto = 'Si eres cliente y necesitas información sobre tus posiciones, productos o realizar operaciones: Desde España. Desde el extranjero. Banca telefónica en castellano. Bandera castellano. 902 13 23 13. Banca telefónica en catalán. Bandera catalana. 902 88 30 08. Banca telefónica en inglés. Bandera inglesa. 902 88 88 35. O por correo electrónico a atencioncliente@bankinter.com'"
   ]
  },
  {
   "cell_type": "markdown",
   "metadata": {},
   "source": [
    "Importamos el módulo de expresiones regulares:"
   ]
  },
  {
   "cell_type": "code",
   "execution_count": 57,
   "metadata": {
    "collapsed": true
   },
   "outputs": [],
   "source": [
    "import re"
   ]
  },
  {
   "cell_type": "markdown",
   "metadata": {},
   "source": [
    "El patrón del teléfono son tres cifras, un espacio, dos cifras, un espacio, dos cifras, un espacio y dos cifras:"
   ]
  },
  {
   "cell_type": "code",
   "execution_count": 58,
   "metadata": {
    "collapsed": false
   },
   "outputs": [],
   "source": [
    "patron_telefono = re.compile('\\d{3}\\s\\d{2}\\s\\d{2}\\s\\d{2}')"
   ]
  },
  {
   "cell_type": "code",
   "execution_count": 59,
   "metadata": {
    "collapsed": false
   },
   "outputs": [
    {
     "data": {
      "text/plain": [
       "['902 13 23 13', '902 88 30 08', '902 88 88 35']"
      ]
     },
     "execution_count": 59,
     "metadata": {},
     "output_type": "execute_result"
    }
   ],
   "source": [
    "patron_telefono.findall(texto)"
   ]
  },
  {
   "cell_type": "markdown",
   "metadata": {},
   "source": [
    "Para la expresión regular del mail elegimos palabras entre 3 y 15 caracteres (letras o números) seguidos de @bankinter.com. "
   ]
  },
  {
   "cell_type": "code",
   "execution_count": 60,
   "metadata": {
    "collapsed": true
   },
   "outputs": [],
   "source": [
    "patron_mail = re.compile('\\w{3,15}@bankinter.com')"
   ]
  },
  {
   "cell_type": "code",
   "execution_count": 61,
   "metadata": {
    "collapsed": false
   },
   "outputs": [
    {
     "data": {
      "text/plain": [
       "['atencioncliente@bankinter.com']"
      ]
     },
     "execution_count": 61,
     "metadata": {},
     "output_type": "execute_result"
    }
   ],
   "source": [
    "patron_mail.findall(texto)"
   ]
  }
 ],
 "metadata": {
  "kernelspec": {
   "display_name": "Python 3",
   "language": "python",
   "name": "python3"
  },
  "language_info": {
   "codemirror_mode": {
    "name": "ipython",
    "version": 3
   },
   "file_extension": ".py",
   "mimetype": "text/x-python",
   "name": "python",
   "nbconvert_exporter": "python",
   "pygments_lexer": "ipython3",
   "version": "3.5.2"
  },
  "toc": {
   "base_numbering": 1,
   "nav_menu": {},
   "number_sections": true,
   "sideBar": true,
   "skip_h1_title": false,
   "title_cell": "Table of Contents",
   "title_sidebar": "Contents",
   "toc_cell": false,
   "toc_position": {},
   "toc_section_display": true,
   "toc_window_display": false
  }
 },
 "nbformat": 4,
 "nbformat_minor": 2
}
