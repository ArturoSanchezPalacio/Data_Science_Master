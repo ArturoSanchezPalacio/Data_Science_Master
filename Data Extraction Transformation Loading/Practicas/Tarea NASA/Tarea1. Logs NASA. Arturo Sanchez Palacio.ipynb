{
 "cells": [
  {
   "cell_type": "markdown",
   "metadata": {},
   "source": [
    "# TAREA. Dataset logs nasa"
   ]
  },
  {
   "cell_type": "markdown",
   "metadata": {},
   "source": [
    "Arturo Sánchez Palacio\n"
   ]
  },
  {
   "cell_type": "markdown",
   "metadata": {},
   "source": [
    "Fecha: 10/XII/18"
   ]
  },
  {
   "cell_type": "markdown",
   "metadata": {},
   "source": [
    "El objetivo de esta práctica es emplear el RDD access_logs para realizar una serie de cálculos:"
   ]
  },
  {
   "cell_type": "markdown",
   "metadata": {},
   "source": [
    "En primer lugar se deben cargar los datos en un contexto Spark:"
   ]
  },
  {
   "cell_type": "code",
   "execution_count": 1,
   "metadata": {
    "collapsed": true
   },
   "outputs": [],
   "source": [
    "from pyspark import SparkContext"
   ]
  },
  {
   "cell_type": "code",
   "execution_count": 2,
   "metadata": {
    "collapsed": true
   },
   "outputs": [],
   "source": [
    "sc = SparkContext()"
   ]
  },
  {
   "cell_type": "code",
   "execution_count": 3,
   "metadata": {
    "collapsed": true
   },
   "outputs": [],
   "source": [
    "data_file = \"./apache.access.log_small\"\n",
    "raw_data = sc.textFile(data_file)"
   ]
  },
  {
   "cell_type": "markdown",
   "metadata": {},
   "source": [
    "Hasta aquí se han cargado los datos en el RDD raw_data. Como primera medida para asegurar que los datos se han subido de manera correcta se procede al conteo de los mismos:"
   ]
  },
  {
   "cell_type": "code",
   "execution_count": 4,
   "metadata": {
    "collapsed": false
   },
   "outputs": [
    {
     "data": {
      "text/plain": [
       "3432"
      ]
     },
     "execution_count": 4,
     "metadata": {},
     "output_type": "execute_result"
    }
   ],
   "source": [
    "raw_data.count()"
   ]
  },
  {
   "cell_type": "markdown",
   "metadata": {},
   "source": [
    "Además vamos a visualizar los primero elementos del RDD:"
   ]
  },
  {
   "cell_type": "code",
   "execution_count": 5,
   "metadata": {
    "collapsed": false
   },
   "outputs": [
    {
     "data": {
      "text/plain": [
       "['in24.inetnebr.com - - [01/Aug/1995:00:00:01 -0400] \"GET /shuttle/missions/sts-68/news/sts-68-mcc-05.txt HTTP/1.0\" 200 1839',\n",
       " 'uplherc.upl.com - - [01/Aug/1995:00:00:07 -0400] \"GET / HTTP/1.0\" 304 0',\n",
       " 'uplherc.upl.com - - [01/Aug/1995:00:00:08 -0400] \"GET /images/ksclogo-medium.gif HTTP/1.0\" 304 0',\n",
       " 'uplherc.upl.com - - [01/Aug/1995:00:00:08 -0400] \"GET /images/MOSAIC-logosmall.gif HTTP/1.0\" 304 0',\n",
       " 'uplherc.upl.com - - [01/Aug/1995:00:00:08 -0400] \"GET /images/USA-logosmall.gif HTTP/1.0\" 304 0']"
      ]
     },
     "execution_count": 5,
     "metadata": {},
     "output_type": "execute_result"
    }
   ],
   "source": [
    "raw_data.take(5)"
   ]
  },
  {
   "cell_type": "markdown",
   "metadata": {},
   "source": [
    "Una vez confirmado que la carga ha sido realizada de manera correcta se procede al parseado de los datos:"
   ]
  },
  {
   "cell_type": "markdown",
   "metadata": {},
   "source": [
    "En el parseado se emplea la expresión regular vista hoy en clase:"
   ]
  },
  {
   "cell_type": "code",
   "execution_count": 6,
   "metadata": {
    "collapsed": false
   },
   "outputs": [],
   "source": [
    "import re\n",
    "def parse_log1(line):\n",
    "    match = re.search('^(\\S+) (\\S+) (\\S+) \\[(\\S+) [-](\\d{4})\\] \"(\\S+)\\s*(\\S+)\\s*(\\S+)\\s*([\\w\\.\\s*]+)?\\s*\"*(\\d{3}) (\\S+)', line)\n",
    "    if match is None:\n",
    "        return 0\n",
    "    else:\n",
    "        return 1\n",
    "n_logs = raw_data.count()"
   ]
  },
  {
   "cell_type": "code",
   "execution_count": 7,
   "metadata": {
    "collapsed": false
   },
   "outputs": [],
   "source": [
    "def parse_log2(line):\n",
    "    match = re.search('^(\\S+) (\\S+) (\\S+) \\[(\\S+) [-](\\d{4})\\] \"(\\S+)\\s*(\\S+)\\s*(\\S+)\\s*([/\\w\\.\\s*]+)?\\s*\"* (\\d{3}) (\\S+)',line)\n",
    "    if match is None:\n",
    "        match = re.search('^(\\S+) (\\S+) (\\S+) \\[(\\S+) [-](\\d{4})\\] \"(\\S+)\\s*([/\\w\\.]+)>*([\\w/\\s\\.]+)\\s*(\\S+)\\s*(\\d{3})\\s*(\\S+)',line)\n",
    "    if match is None:\n",
    "        return (line, 0)\n",
    "    else:\n",
    "        return (line, 1)\n"
   ]
  },
  {
   "cell_type": "code",
   "execution_count": 8,
   "metadata": {
    "collapsed": false
   },
   "outputs": [],
   "source": [
    "def map_log(line):\n",
    "    match = re.search('^(\\S+) (\\S+) (\\S+) \\[(\\S+) [-](\\d{4})\\] \"(\\S+)\\s*(\\S+)\\s*(\\S+)\\s*([/\\w\\.\\s*]+)?\\s*\"* (\\d{3}) (\\S+)',line)\n",
    "    if match is None:\n",
    "        match = re.search('^(\\S+) (\\S+) (\\S+) \\[(\\S+) [-](\\d{4})\\] \"(\\S+)\\s*([/\\w\\.]+)>*([\\w/\\s\\.]+)\\s*(\\S+)\\s*(\\d{3})\\s*(\\S+)',line)\n",
    "    return(match.groups())\n",
    "parsed_rdd = raw_data.map(lambda line: parse_log2(line)).filter(lambda line: line[1] == 1).map(lambda line : line[0])\n",
    "parsed_def = parsed_rdd.map(lambda line: map_log(line))"
   ]
  },
  {
   "cell_type": "markdown",
   "metadata": {},
   "source": [
    "A continuación se presentan las estadísticas (incluyendo mínimo, máximo y media) del tamaño de las peticiones:"
   ]
  },
  {
   "cell_type": "code",
   "execution_count": 9,
   "metadata": {
    "collapsed": false
   },
   "outputs": [
    {
     "data": {
      "text/plain": [
       "(count: 3432, mean: 16051.863636363634, stdev: 53247.8157482, max: 887988.0, min: 0.0)"
      ]
     },
     "execution_count": 9,
     "metadata": {},
     "output_type": "execute_result"
    }
   ],
   "source": [
    "def convert_long(x):\n",
    "    x = re.sub('[^0-9]',\"\",x) \n",
    "    if x ==\"\":\n",
    "        return 0\n",
    "    else:\n",
    "        return int(x)\n",
    "parsed_def.map(lambda line: convert_long(line[-1])).stats()"
   ]
  },
  {
   "cell_type": "markdown",
   "metadata": {},
   "source": [
    "El siguiente objetivo es calcular el número de peticiones de cada código de respuesta:"
   ]
  },
  {
   "cell_type": "code",
   "execution_count": 10,
   "metadata": {
    "collapsed": false
   },
   "outputs": [
    {
     "data": {
      "text/plain": [
       "[('200', 3140), ('304', 219), ('302', 50), ('404', 22), ('403', 1)]"
      ]
     },
     "execution_count": 10,
     "metadata": {},
     "output_type": "execute_result"
    }
   ],
   "source": [
    "n_codes = parsed_def.map(lambda line: (line[-2], 1)).distinct().count()\n",
    "codes_count = (parsed_def.map(lambda line: (line[-2], 1))\n",
    "          .reduceByKey(lambda a, b: a + b)\n",
    "          .takeOrdered(n_codes, lambda x: -x[1]))\n",
    "codes_count"
   ]
  },
  {
   "cell_type": "markdown",
   "metadata": {},
   "source": [
    "__Solución:__ Así el código 200 aparece para 3140 logs, el 304 para 219 logs, el 302 para 50 logs, el 404 para 22 logs y el 403 para un único log."
   ]
  },
  {
   "cell_type": "markdown",
   "metadata": {},
   "source": [
    "Si se desean ver  20 hosts visitados más de diez veces:"
   ]
  },
  {
   "cell_type": "code",
   "execution_count": 11,
   "metadata": {
    "collapsed": false
   },
   "outputs": [
    {
     "data": {
      "text/plain": [
       "[('ix-min1-02.ix.netcom.com', 78),\n",
       " ('uplherc.upl.com', 71),\n",
       " ('port26.ts1.msstate.edu', 59),\n",
       " ('h96-158.ccnet.com', 56),\n",
       " ('in24.inetnebr.com', 55),\n",
       " ('thing1.cchem.berkeley.edu', 54),\n",
       " ('piweba3y.prodigy.com', 54),\n",
       " ('adam.tower.com.au', 44),\n",
       " ('ip55.van2.pacifier.com', 43),\n",
       " ('ppp1016.po.iijnet.or.jp', 41),\n",
       " ('hsccs_gatorbox07.unm.edu', 40),\n",
       " ('www-b2.proxy.aol.com', 40),\n",
       " ('www-d1.proxy.aol.com', 39),\n",
       " ('port13.wavenet.com', 37),\n",
       " ('133.43.96.45', 37),\n",
       " ('pc-heh.icl.dk', 33),\n",
       " ('haraway.ucet.ufl.edu', 32),\n",
       " ('193.84.66.147', 31),\n",
       " ('www-c1.proxy.aol.com', 30),\n",
       " ('143.158.26.50', 29)]"
      ]
     },
     "execution_count": 11,
     "metadata": {},
     "output_type": "execute_result"
    }
   ],
   "source": [
    "result = parsed_def.map(lambda line: (line[0],1)).reduceByKey(lambda a, b: a + b).takeOrdered(20, lambda x: -x[1])\n",
    "result"
   ]
  },
  {
   "cell_type": "markdown",
   "metadata": {},
   "source": [
    "A continuación se muestran los 10 endpoints más visitados:"
   ]
  },
  {
   "cell_type": "code",
   "execution_count": 12,
   "metadata": {
    "collapsed": false
   },
   "outputs": [
    {
     "data": {
      "text/plain": [
       "[('/images/KSC-logosmall.gif', 167),\n",
       " ('/images/NASA-logosmall.gif', 160),\n",
       " ('/images/MOSAIC-logosmall.gif', 122),\n",
       " ('/images/WORLD-logosmall.gif', 120),\n",
       " ('/images/USA-logosmall.gif', 118),\n",
       " ('/images/ksclogo-medium.gif', 106),\n",
       " ('/', 85),\n",
       " ('/history/apollo/images/apollo-logo1.gif', 74),\n",
       " ('/images/launch-logo.gif', 69),\n",
       " ('/images/ksclogosmall.gif', 66)]"
      ]
     },
     "execution_count": 12,
     "metadata": {},
     "output_type": "execute_result"
    }
   ],
   "source": [
    "result = parsed_def.map(lambda line: (line[6],1)).reduceByKey(lambda a, b: a + b).takeOrdered(10, lambda x: -x[1])\n",
    "result"
   ]
  },
  {
   "cell_type": "markdown",
   "metadata": {},
   "source": [
    "Si se desean los 10 endpoints más visitados que no han devuelto un resultado (es decir, que tienen un código distinto de 200):"
   ]
  },
  {
   "cell_type": "code",
   "execution_count": 13,
   "metadata": {
    "collapsed": false
   },
   "outputs": [
    {
     "data": {
      "text/plain": [
       "[('/images/NASA-logosmall.gif', 25),\n",
       " ('/images/KSC-logosmall.gif', 24),\n",
       " ('/images/MOSAIC-logosmall.gif', 17),\n",
       " ('/images/WORLD-logosmall.gif', 17),\n",
       " ('/images/USA-logosmall.gif', 16),\n",
       " ('/images/ksclogo-medium.gif', 10),\n",
       " ('/images/construct.gif', 8),\n",
       " ('/software/winvn/winvn.html', 8),\n",
       " ('/software/winvn/bluemarb.gif', 8),\n",
       " ('/software/winvn/wvsmall.gif', 6)]"
      ]
     },
     "execution_count": 13,
     "metadata": {},
     "output_type": "execute_result"
    }
   ],
   "source": [
    "result = (parsed_def.filter(lambda line: line[9] != '200')\n",
    "          .map(lambda line: (line[6], 1))\n",
    "          .reduceByKey(lambda a, b: a+b)\n",
    "          .takeOrdered(10, lambda x: -x[1]))\n",
    "result"
   ]
  },
  {
   "cell_type": "markdown",
   "metadata": {},
   "source": [
    "A continuación se calcula el número de hosts distintos:"
   ]
  },
  {
   "cell_type": "code",
   "execution_count": 14,
   "metadata": {
    "collapsed": false
   },
   "outputs": [
    {
     "data": {
      "text/plain": [
       "311"
      ]
     },
     "execution_count": 14,
     "metadata": {},
     "output_type": "execute_result"
    }
   ],
   "source": [
    "parsed_def.map(lambda line: line[0]).distinct().count()"
   ]
  },
  {
   "cell_type": "markdown",
   "metadata": {},
   "source": [
    "Tras ello se puede calcular el número de hosts únicos cada día:"
   ]
  },
  {
   "cell_type": "code",
   "execution_count": 15,
   "metadata": {
    "collapsed": false
   },
   "outputs": [
    {
     "data": {
      "text/plain": [
       "[(datetime.datetime(1995, 8, 1, 0, 0), 3432)]"
      ]
     },
     "execution_count": 15,
     "metadata": {},
     "output_type": "execute_result"
    }
   ],
   "source": [
    "from datetime import datetime\n",
    "def day_month(line):\n",
    "    date_time = line[3]\n",
    "    return datetime.strptime(date_time[:11], \"%d/%b/%Y\") #Se parsea la fecha para trabajar con ella tal y como vimos en clase.\n",
    "result = parsed_def.map(lambda line:  (day_month(line), 1)).reduceByKey(lambda a, b: a + b).distinct().collect()\n",
    "result\n",
    "\n"
   ]
  },
  {
   "cell_type": "markdown",
   "metadata": {},
   "source": [
    "__Nota:__ En este dataset solo se poseén datos de un día por esa razón se obtiene este resultado."
   ]
  },
  {
   "cell_type": "markdown",
   "metadata": {},
   "source": [
    "Tras esto se pide calcular la media de peticiones diaria por host."
   ]
  },
  {
   "cell_type": "code",
   "execution_count": 16,
   "metadata": {
    "collapsed": true
   },
   "outputs": [],
   "source": [
    "import pandas as pd"
   ]
  },
  {
   "cell_type": "code",
   "execution_count": 17,
   "metadata": {
    "collapsed": false
   },
   "outputs": [],
   "source": [
    "unique_result = (parsed_def.map(lambda line:  (day_month(line),line[0]))\n",
    "          .groupByKey().mapValues(set)\n",
    "          .map(lambda x: (x[0], len(x[1]))))\n",
    "\n",
    "length_result = (parsed_def.map(lambda line:  (day_month(line),line[0]))\n",
    "          .groupByKey().mapValues(len))\n",
    "\n",
    "joined = length_result.join(unique_result).map(lambda a: (a[0], (a[1][0])/(a[1][1]))).collect()\n",
    "day = [x[0] for x in joined]\n",
    "count = [x[1] for x in joined]\n",
    "day_count_dct = {'Día':day, 'Media':count}\n",
    "day_count_df = pd.DataFrame(day_count_dct )\n"
   ]
  },
  {
   "cell_type": "markdown",
   "metadata": {},
   "source": [
    "El panda en este caso no se usa para realizar ningún cálculo si no simplemente para una mejor visualización."
   ]
  },
  {
   "cell_type": "markdown",
   "metadata": {},
   "source": [
    "__Solución:__ "
   ]
  },
  {
   "cell_type": "code",
   "execution_count": 18,
   "metadata": {
    "collapsed": false
   },
   "outputs": [
    {
     "data": {
      "text/html": [
       "<div>\n",
       "<table border=\"1\" class=\"dataframe\">\n",
       "  <thead>\n",
       "    <tr style=\"text-align: right;\">\n",
       "      <th></th>\n",
       "      <th>Día</th>\n",
       "      <th>Media</th>\n",
       "    </tr>\n",
       "  </thead>\n",
       "  <tbody>\n",
       "    <tr>\n",
       "      <th>0</th>\n",
       "      <td>1995-08-01</td>\n",
       "      <td>11.03537</td>\n",
       "    </tr>\n",
       "  </tbody>\n",
       "</table>\n",
       "</div>"
      ],
      "text/plain": [
       "         Día     Media\n",
       "0 1995-08-01  11.03537"
      ]
     },
     "execution_count": 18,
     "metadata": {},
     "output_type": "execute_result"
    }
   ],
   "source": [
    "day_count_df"
   ]
  },
  {
   "cell_type": "markdown",
   "metadata": {},
   "source": [
    "A continuación, se muestra una lista de 40 endpoints que generan código de respuesta = 404:"
   ]
  },
  {
   "cell_type": "code",
   "execution_count": 19,
   "metadata": {
    "collapsed": false
   },
   "outputs": [
    {
     "data": {
      "text/plain": [
       "[('/history/apollo/a-001/a-001-patch-small.gif', 4),\n",
       " ('/pub/winvn/release.txt', 4),\n",
       " ('/history/apollo/a-004/a-004-patch-small.gif', 2),\n",
       " ('/history/apollo/a-001/movies/', 2),\n",
       " ('/pub/winvn/readme.txt', 2),\n",
       " ('/www/software/winvn/winvn.html', 1),\n",
       " ('/elv/DELTA/uncons.htm', 1),\n",
       " ('/shuttle/resources/orbiters/discovery.gif', 1),\n",
       " ('/history/apollo/a-001/images/', 1),\n",
       " ('/sts-71/launch/', 1),\n",
       " ('/history/apollo/apollo-13.html', 1),\n",
       " ('/history/history.htm', 1),\n",
       " ('/history/apollo/a-004/movies/', 1)]"
      ]
     },
     "execution_count": 19,
     "metadata": {},
     "output_type": "execute_result"
    }
   ],
   "source": [
    "result = (parsed_def.filter(lambda line: line[9] == '404')\n",
    "          .map(lambda line: (line[6], 1))\n",
    "          .reduceByKey(lambda a, b: a+b).distinct()\n",
    "          .takeOrdered(40, lambda x: -x[1]))\n",
    "result"
   ]
  },
  {
   "cell_type": "markdown",
   "metadata": {},
   "source": [
    "__Nota:__ En la lista solo aparecen 13 endpoints porque se está trabajando con la base de datos reducida."
   ]
  },
  {
   "cell_type": "markdown",
   "metadata": {},
   "source": [
    "El siguiente comando mostraría el top 25 de endpoints que más códigos 404 generan de dispnerse de más de 13:"
   ]
  },
  {
   "cell_type": "code",
   "execution_count": 20,
   "metadata": {
    "collapsed": false
   },
   "outputs": [
    {
     "data": {
      "text/plain": [
       "[('/history/apollo/a-001/a-001-patch-small.gif', 4),\n",
       " ('/pub/winvn/release.txt', 4),\n",
       " ('/history/apollo/a-004/a-004-patch-small.gif', 2),\n",
       " ('/history/apollo/a-001/movies/', 2),\n",
       " ('/pub/winvn/readme.txt', 2),\n",
       " ('/www/software/winvn/winvn.html', 1),\n",
       " ('/elv/DELTA/uncons.htm', 1),\n",
       " ('/shuttle/resources/orbiters/discovery.gif', 1),\n",
       " ('/history/apollo/a-001/images/', 1),\n",
       " ('/sts-71/launch/', 1),\n",
       " ('/history/apollo/apollo-13.html', 1),\n",
       " ('/history/history.htm', 1),\n",
       " ('/history/apollo/a-004/movies/', 1)]"
      ]
     },
     "execution_count": 20,
     "metadata": {},
     "output_type": "execute_result"
    }
   ],
   "source": [
    "result = (parsed_def.filter(lambda line: line[9] == '404')\n",
    "          .map(lambda line: (line[6], 1))\n",
    "          .reduceByKey(lambda a, b: a+b).distinct()\n",
    "          .takeOrdered(25, lambda x: -x[1]))\n",
    "result"
   ]
  },
  {
   "cell_type": "markdown",
   "metadata": {},
   "source": [
    "Si se desean obtener el top 5 de días que más códigos de error 404 generan:"
   ]
  },
  {
   "cell_type": "code",
   "execution_count": 21,
   "metadata": {
    "collapsed": true
   },
   "outputs": [],
   "source": [
    "result = (parsed_def.filter(lambda line: line[9] == '404')\n",
    "          .map(lambda line:  (day_month(line), 1))\n",
    "          .reduceByKey(lambda a, b: a+b).collect())\n",
    "day = [x[0] for x in result]\n",
    "count = [x[1] for x in result]\n",
    "day_count_dct = {'day':day, 'count':count}\n",
    "day_count_df = pd.DataFrame(day_count_dct )\n"
   ]
  },
  {
   "cell_type": "markdown",
   "metadata": {},
   "source": [
    "De nuevo el paso a DF se emplea únicamente para una mejor visualización:"
   ]
  },
  {
   "cell_type": "code",
   "execution_count": 22,
   "metadata": {
    "collapsed": false
   },
   "outputs": [
    {
     "data": {
      "text/html": [
       "<div>\n",
       "<table border=\"1\" class=\"dataframe\">\n",
       "  <thead>\n",
       "    <tr style=\"text-align: right;\">\n",
       "      <th></th>\n",
       "      <th>count</th>\n",
       "      <th>day</th>\n",
       "    </tr>\n",
       "  </thead>\n",
       "  <tbody>\n",
       "    <tr>\n",
       "      <th>0</th>\n",
       "      <td>22</td>\n",
       "      <td>1995-08-01</td>\n",
       "    </tr>\n",
       "  </tbody>\n",
       "</table>\n",
       "</div>"
      ],
      "text/plain": [
       "   count        day\n",
       "0     22 1995-08-01"
      ]
     },
     "execution_count": 22,
     "metadata": {},
     "output_type": "execute_result"
    }
   ],
   "source": [
    "day_count_df.sort_values('count', ascending = False)[:10]\n"
   ]
  },
  {
   "cell_type": "markdown",
   "metadata": {
    "collapsed": true
   },
   "source": [
    "__Nota:__ De nuevo se obtiene un solo día por trabajarse con la base de datos reducida."
   ]
  }
 ],
 "metadata": {
  "kernelspec": {
   "display_name": "Python 3",
   "language": "python",
   "name": "python3"
  },
  "language_info": {
   "codemirror_mode": {
    "name": "ipython",
    "version": 3
   },
   "file_extension": ".py",
   "mimetype": "text/x-python",
   "name": "python",
   "nbconvert_exporter": "python",
   "pygments_lexer": "ipython3",
   "version": "3.5.2"
  }
 },
 "nbformat": 4,
 "nbformat_minor": 2
}
